{
 "cells": [
  {
   "cell_type": "code",
   "execution_count": null,
   "id": "2a4b706d",
   "metadata": {},
   "outputs": [],
   "source": []
  },
  {
   "cell_type": "code",
   "execution_count": 1,
   "id": "525b9285",
   "metadata": {},
   "outputs": [],
   "source": [
    "import requests"
   ]
  },
  {
   "cell_type": "code",
   "execution_count": null,
   "id": "4c2a9104",
   "metadata": {},
   "outputs": [
    {
     "name": "stdout",
     "output_type": "stream",
     "text": [
      "200\n"
     ]
    }
   ],
   "source": [
    "res = requests.get(\"http://localhost:8686/crawl-all-daily\")\n",
    "print(res.status_code)\n",
    "print(res.json())"
   ]
  },
  {
   "cell_type": "code",
   "execution_count": 6,
   "id": "9f2812f3",
   "metadata": {},
   "outputs": [
    {
     "name": "stdout",
     "output_type": "stream",
     "text": [
      "200\n",
      "{'success': True, 'total_rows': 122, 'data': [{'loai_vang': 'PNJ', 'gia_mua': 55300, 'gia_ban': 56300, 'thoi_gian_cap_nhat': '2023-10-05T08:15:07', 'region': 'Lịch sử giá vàng TPHCM'}, {'loai_vang': 'PNJ', 'gia_mua': 55300, 'gia_ban': 56300, 'thoi_gian_cap_nhat': '2023-10-05T08:16:22', 'region': 'Lịch sử giá vàng TPHCM'}, {'loai_vang': 'PNJ', 'gia_mua': 55400, 'gia_ban': 56400, 'thoi_gian_cap_nhat': '2023-10-05T09:53:54', 'region': 'Lịch sử giá vàng TPHCM'}, {'loai_vang': 'PNJ', 'gia_mua': 55400, 'gia_ban': 56400, 'thoi_gian_cap_nhat': '2023-10-05T14:06:58', 'region': 'Lịch sử giá vàng TPHCM'}, {'loai_vang': 'SJC', 'gia_mua': 68150, 'gia_ban': 68850, 'thoi_gian_cap_nhat': '2023-10-05T08:15:07', 'region': 'Lịch sử giá vàng TPHCM'}, {'loai_vang': 'SJC', 'gia_mua': 68150, 'gia_ban': 68850, 'thoi_gian_cap_nhat': '2023-10-05T08:16:22', 'region': 'Lịch sử giá vàng TPHCM'}, {'loai_vang': 'SJC', 'gia_mua': 68200, 'gia_ban': 68900, 'thoi_gian_cap_nhat': '2023-10-05T09:53:54', 'region': 'Lịch sử giá vàng TPHCM'}, {'loai_vang': 'SJC', 'gia_mua': 68300, 'gia_ban': 69000, 'thoi_gian_cap_nhat': '2023-10-05T14:06:58', 'region': 'Lịch sử giá vàng TPHCM'}, {'loai_vang': 'PNJ', 'gia_mua': 55300, 'gia_ban': 56300, 'thoi_gian_cap_nhat': '2023-10-05T08:15:07', 'region': 'Lịch sử giá vàng Hà Nội'}, {'loai_vang': 'PNJ', 'gia_mua': 55300, 'gia_ban': 56300, 'thoi_gian_cap_nhat': '2023-10-05T08:16:22', 'region': 'Lịch sử giá vàng Hà Nội'}, {'loai_vang': 'PNJ', 'gia_mua': 55400, 'gia_ban': 56400, 'thoi_gian_cap_nhat': '2023-10-05T09:53:54', 'region': 'Lịch sử giá vàng Hà Nội'}, {'loai_vang': 'PNJ', 'gia_mua': 55400, 'gia_ban': 56400, 'thoi_gian_cap_nhat': '2023-10-05T14:06:58', 'region': 'Lịch sử giá vàng Hà Nội'}, {'loai_vang': 'SJC', 'gia_mua': 68150, 'gia_ban': 68850, 'thoi_gian_cap_nhat': '2023-10-05T08:15:07', 'region': 'Lịch sử giá vàng Hà Nội'}, {'loai_vang': 'SJC', 'gia_mua': 68150, 'gia_ban': 68850, 'thoi_gian_cap_nhat': '2023-10-05T08:16:22', 'region': 'Lịch sử giá vàng Hà Nội'}, {'loai_vang': 'SJC', 'gia_mua': 68200, 'gia_ban': 68900, 'thoi_gian_cap_nhat': '2023-10-05T09:53:54', 'region': 'Lịch sử giá vàng Hà Nội'}, {'loai_vang': 'SJC', 'gia_mua': 68300, 'gia_ban': 69000, 'thoi_gian_cap_nhat': '2023-10-05T14:06:58', 'region': 'Lịch sử giá vàng Hà Nội'}, {'loai_vang': 'PNJ', 'gia_mua': 55300, 'gia_ban': 56300, 'thoi_gian_cap_nhat': '2023-10-05T08:15:07', 'region': 'Lịch sử giá vàng Đà Nẵng'}, {'loai_vang': 'PNJ', 'gia_mua': 55300, 'gia_ban': 56300, 'thoi_gian_cap_nhat': '2023-10-05T08:16:22', 'region': 'Lịch sử giá vàng Đà Nẵng'}, {'loai_vang': 'PNJ', 'gia_mua': 55400, 'gia_ban': 56400, 'thoi_gian_cap_nhat': '2023-10-05T09:53:54', 'region': 'Lịch sử giá vàng Đà Nẵng'}, {'loai_vang': 'PNJ', 'gia_mua': 55400, 'gia_ban': 56400, 'thoi_gian_cap_nhat': '2023-10-05T14:06:58', 'region': 'Lịch sử giá vàng Đà Nẵng'}, {'loai_vang': 'SJC', 'gia_mua': 68150, 'gia_ban': 68850, 'thoi_gian_cap_nhat': '2023-10-05T08:15:07', 'region': 'Lịch sử giá vàng Đà Nẵng'}, {'loai_vang': 'SJC', 'gia_mua': 68150, 'gia_ban': 68850, 'thoi_gian_cap_nhat': '2023-10-05T08:16:22', 'region': 'Lịch sử giá vàng Đà Nẵng'}, {'loai_vang': 'SJC', 'gia_mua': 68200, 'gia_ban': 68900, 'thoi_gian_cap_nhat': '2023-10-05T09:53:54', 'region': 'Lịch sử giá vàng Đà Nẵng'}, {'loai_vang': 'SJC', 'gia_mua': 68300, 'gia_ban': 69000, 'thoi_gian_cap_nhat': '2023-10-05T14:06:58', 'region': 'Lịch sử giá vàng Đà Nẵng'}, {'loai_vang': 'PNJ', 'gia_mua': 55300, 'gia_ban': 56300, 'thoi_gian_cap_nhat': '2023-10-05T08:15:07', 'region': 'Lịch sử giá vàng Miền Tây'}, {'loai_vang': 'PNJ', 'gia_mua': 55300, 'gia_ban': 56300, 'thoi_gian_cap_nhat': '2023-10-05T08:16:22', 'region': 'Lịch sử giá vàng Miền Tây'}, {'loai_vang': 'PNJ', 'gia_mua': 55300, 'gia_ban': 56300, 'thoi_gian_cap_nhat': '2023-10-05T08:31:11', 'region': 'Lịch sử giá vàng Miền Tây'}, {'loai_vang': 'PNJ', 'gia_mua': 55300, 'gia_ban': 56300, 'thoi_gian_cap_nhat': '2023-10-05T08:51:45', 'region': 'Lịch sử giá vàng Miền Tây'}, {'loai_vang': 'PNJ', 'gia_mua': 55400, 'gia_ban': 56400, 'thoi_gian_cap_nhat': '2023-10-05T09:53:54', 'region': 'Lịch sử giá vàng Miền Tây'}, {'loai_vang': 'PNJ', 'gia_mua': 55400, 'gia_ban': 56400, 'thoi_gian_cap_nhat': '2023-10-05T10:00:45', 'region': 'Lịch sử giá vàng Miền Tây'}, {'loai_vang': 'PNJ', 'gia_mua': 55400, 'gia_ban': 56400, 'thoi_gian_cap_nhat': '2023-10-05T10:13:46', 'region': 'Lịch sử giá vàng Miền Tây'}, {'loai_vang': 'PNJ', 'gia_mua': 55400, 'gia_ban': 56400, 'thoi_gian_cap_nhat': '2023-10-05T10:13:46', 'region': 'Lịch sử giá vàng Miền Tây'}, {'loai_vang': 'PNJ', 'gia_mua': 55400, 'gia_ban': 56400, 'thoi_gian_cap_nhat': '2023-10-05T14:06:58', 'region': 'Lịch sử giá vàng Miền Tây'}, {'loai_vang': 'PNJ', 'gia_mua': 55400, 'gia_ban': 56400, 'thoi_gian_cap_nhat': '2023-10-05T14:08:15', 'region': 'Lịch sử giá vàng Miền Tây'}, {'loai_vang': 'PNJ', 'gia_mua': 55400, 'gia_ban': 56400, 'thoi_gian_cap_nhat': '2023-10-05T14:08:15', 'region': 'Lịch sử giá vàng Miền Tây'}, {'loai_vang': 'SJC', 'gia_mua': 68150, 'gia_ban': 68850, 'thoi_gian_cap_nhat': '2023-10-05T08:15:07', 'region': 'Lịch sử giá vàng Miền Tây'}, {'loai_vang': 'SJC', 'gia_mua': 68150, 'gia_ban': 68850, 'thoi_gian_cap_nhat': '2023-10-05T08:16:22', 'region': 'Lịch sử giá vàng Miền Tây'}, {'loai_vang': 'SJC', 'gia_mua': 68300, 'gia_ban': 68900, 'thoi_gian_cap_nhat': '2023-10-05T08:31:11', 'region': 'Lịch sử giá vàng Miền Tây'}, {'loai_vang': 'SJC', 'gia_mua': 68400, 'gia_ban': 68900, 'thoi_gian_cap_nhat': '2023-10-05T08:51:45', 'region': 'Lịch sử giá vàng Miền Tây'}, {'loai_vang': 'SJC', 'gia_mua': 68200, 'gia_ban': 68900, 'thoi_gian_cap_nhat': '2023-10-05T09:53:54', 'region': 'Lịch sử giá vàng Miền Tây'}, {'loai_vang': 'SJC', 'gia_mua': 68400, 'gia_ban': 68900, 'thoi_gian_cap_nhat': '2023-10-05T10:00:45', 'region': 'Lịch sử giá vàng Miền Tây'}, {'loai_vang': 'SJC', 'gia_mua': 68400, 'gia_ban': 69000, 'thoi_gian_cap_nhat': '2023-10-05T10:13:46', 'region': 'Lịch sử giá vàng Miền Tây'}, {'loai_vang': 'SJC', 'gia_mua': 68400, 'gia_ban': 69000, 'thoi_gian_cap_nhat': '2023-10-05T10:13:46', 'region': 'Lịch sử giá vàng Miền Tây'}, {'loai_vang': 'SJC', 'gia_mua': 68300, 'gia_ban': 69000, 'thoi_gian_cap_nhat': '2023-10-05T14:06:58', 'region': 'Lịch sử giá vàng Miền Tây'}, {'loai_vang': 'SJC', 'gia_mua': 68400, 'gia_ban': 69000, 'thoi_gian_cap_nhat': '2023-10-05T14:08:15', 'region': 'Lịch sử giá vàng Miền Tây'}, {'loai_vang': 'SJC', 'gia_mua': 68400, 'gia_ban': 69000, 'thoi_gian_cap_nhat': '2023-10-05T14:08:15', 'region': 'Lịch sử giá vàng Miền Tây'}, {'loai_vang': 'PNJ', 'gia_mua': 55300, 'gia_ban': 56300, 'thoi_gian_cap_nhat': '2023-10-05T08:15:07', 'region': 'Lịch sử giá vàng Tây Nguyên'}, {'loai_vang': 'PNJ', 'gia_mua': 55300, 'gia_ban': 56300, 'thoi_gian_cap_nhat': '2023-10-05T08:16:22', 'region': 'Lịch sử giá vàng Tây Nguyên'}, {'loai_vang': 'PNJ', 'gia_mua': 55400, 'gia_ban': 56400, 'thoi_gian_cap_nhat': '2023-10-05T09:53:54', 'region': 'Lịch sử giá vàng Tây Nguyên'}, {'loai_vang': 'PNJ', 'gia_mua': 55400, 'gia_ban': 56400, 'thoi_gian_cap_nhat': '2023-10-05T14:06:58', 'region': 'Lịch sử giá vàng Tây Nguyên'}, {'loai_vang': 'SJC', 'gia_mua': 68150, 'gia_ban': 68850, 'thoi_gian_cap_nhat': '2023-10-05T08:15:07', 'region': 'Lịch sử giá vàng Tây Nguyên'}, {'loai_vang': 'SJC', 'gia_mua': 68150, 'gia_ban': 68850, 'thoi_gian_cap_nhat': '2023-10-05T08:16:22', 'region': 'Lịch sử giá vàng Tây Nguyên'}, {'loai_vang': 'SJC', 'gia_mua': 68200, 'gia_ban': 68900, 'thoi_gian_cap_nhat': '2023-10-05T09:53:54', 'region': 'Lịch sử giá vàng Tây Nguyên'}, {'loai_vang': 'SJC', 'gia_mua': 68300, 'gia_ban': 69000, 'thoi_gian_cap_nhat': '2023-10-05T14:06:58', 'region': 'Lịch sử giá vàng Tây Nguyên'}, {'loai_vang': 'PNJ', 'gia_mua': 55300, 'gia_ban': 56300, 'thoi_gian_cap_nhat': '2023-10-05T08:15:07', 'region': 'Lịch sử giá vàng Đông Nam Bộ'}, {'loai_vang': 'PNJ', 'gia_mua': 55300, 'gia_ban': 56300, 'thoi_gian_cap_nhat': '2023-10-05T08:16:22', 'region': 'Lịch sử giá vàng Đông Nam Bộ'}, {'loai_vang': 'PNJ', 'gia_mua': 55400, 'gia_ban': 56400, 'thoi_gian_cap_nhat': '2023-10-05T09:53:54', 'region': 'Lịch sử giá vàng Đông Nam Bộ'}, {'loai_vang': 'PNJ', 'gia_mua': 55400, 'gia_ban': 56400, 'thoi_gian_cap_nhat': '2023-10-05T14:06:58', 'region': 'Lịch sử giá vàng Đông Nam Bộ'}, {'loai_vang': 'SJC', 'gia_mua': 68150, 'gia_ban': 68850, 'thoi_gian_cap_nhat': '2023-10-05T08:15:07', 'region': 'Lịch sử giá vàng Đông Nam Bộ'}, {'loai_vang': 'SJC', 'gia_mua': 68150, 'gia_ban': 68850, 'thoi_gian_cap_nhat': '2023-10-05T08:16:22', 'region': 'Lịch sử giá vàng Đông Nam Bộ'}, {'loai_vang': 'SJC', 'gia_mua': 68200, 'gia_ban': 68900, 'thoi_gian_cap_nhat': '2023-10-05T09:53:54', 'region': 'Lịch sử giá vàng Đông Nam Bộ'}, {'loai_vang': 'SJC', 'gia_mua': 68300, 'gia_ban': 69000, 'thoi_gian_cap_nhat': '2023-10-05T14:06:58', 'region': 'Lịch sử giá vàng Đông Nam Bộ'}, {'loai_vang': 'Nhẫn Trơn PNJ 999.9', 'gia_mua': 55300, 'gia_ban': 56200, 'thoi_gian_cap_nhat': '2023-10-05T08:15:07', 'region': 'Lịch sử giá vàng Giá vàng nữ trang'}, {'loai_vang': 'Nhẫn Trơn PNJ 999.9', 'gia_mua': 55300, 'gia_ban': 56200, 'thoi_gian_cap_nhat': '2023-10-05T08:16:22', 'region': 'Lịch sử giá vàng Giá vàng nữ trang'}, {'loai_vang': 'Nhẫn Trơn PNJ 999.9', 'gia_mua': 55400, 'gia_ban': 56300, 'thoi_gian_cap_nhat': '2023-10-05T09:53:54', 'region': 'Lịch sử giá vàng Giá vàng nữ trang'}, {'loai_vang': 'Nhẫn Trơn PNJ 999.9', 'gia_mua': 55400, 'gia_ban': 56300, 'thoi_gian_cap_nhat': '2023-10-05T14:06:58', 'region': 'Lịch sử giá vàng Giá vàng nữ trang'}, {'loai_vang': 'Vàng Kim Bảo 999.9', 'gia_mua': 55300, 'gia_ban': 56200, 'thoi_gian_cap_nhat': '2023-10-05T08:15:07', 'region': 'Lịch sử giá vàng Giá vàng nữ trang'}, {'loai_vang': 'Vàng Kim Bảo 999.9', 'gia_mua': 55300, 'gia_ban': 56200, 'thoi_gian_cap_nhat': '2023-10-05T08:16:22', 'region': 'Lịch sử giá vàng Giá vàng nữ trang'}, {'loai_vang': 'Vàng Kim Bảo 999.9', 'gia_mua': 55400, 'gia_ban': 56300, 'thoi_gian_cap_nhat': '2023-10-05T09:53:54', 'region': 'Lịch sử giá vàng Giá vàng nữ trang'}, {'loai_vang': 'Vàng Kim Bảo 999.9', 'gia_mua': 55400, 'gia_ban': 56300, 'thoi_gian_cap_nhat': '2023-10-05T14:06:58', 'region': 'Lịch sử giá vàng Giá vàng nữ trang'}, {'loai_vang': 'Vàng Phúc Lộc Tài 999.9', 'gia_mua': 55300, 'gia_ban': 56300, 'thoi_gian_cap_nhat': '2023-10-05T08:15:07', 'region': 'Lịch sử giá vàng Giá vàng nữ trang'}, {'loai_vang': 'Vàng Phúc Lộc Tài 999.9', 'gia_mua': 55300, 'gia_ban': 56300, 'thoi_gian_cap_nhat': '2023-10-05T08:16:22', 'region': 'Lịch sử giá vàng Giá vàng nữ trang'}, {'loai_vang': 'Vàng Phúc Lộc Tài 999.9', 'gia_mua': 55400, 'gia_ban': 56400, 'thoi_gian_cap_nhat': '2023-10-05T09:53:54', 'region': 'Lịch sử giá vàng Giá vàng nữ trang'}, {'loai_vang': 'Vàng Phúc Lộc Tài 999.9', 'gia_mua': 55400, 'gia_ban': 56400, 'thoi_gian_cap_nhat': '2023-10-05T14:06:58', 'region': 'Lịch sử giá vàng Giá vàng nữ trang'}, {'loai_vang': 'Vàng nữ trang 999.9', 'gia_mua': 55200, 'gia_ban': 56000, 'thoi_gian_cap_nhat': '2023-10-05T08:15:07', 'region': 'Lịch sử giá vàng Giá vàng nữ trang'}, {'loai_vang': 'Vàng nữ trang 999.9', 'gia_mua': 55200, 'gia_ban': 56000, 'thoi_gian_cap_nhat': '2023-10-05T08:16:22', 'region': 'Lịch sử giá vàng Giá vàng nữ trang'}, {'loai_vang': 'Vàng nữ trang 999.9', 'gia_mua': 55300, 'gia_ban': 56100, 'thoi_gian_cap_nhat': '2023-10-05T09:53:54', 'region': 'Lịch sử giá vàng Giá vàng nữ trang'}, {'loai_vang': 'Vàng nữ trang 999.9', 'gia_mua': 55300, 'gia_ban': 56100, 'thoi_gian_cap_nhat': '2023-10-05T14:06:58', 'region': 'Lịch sử giá vàng Giá vàng nữ trang'}, {'loai_vang': 'Vàng nữ trang 999', 'gia_mua': 55140, 'gia_ban': 55940, 'thoi_gian_cap_nhat': '2023-10-05T08:15:07', 'region': 'Lịch sử giá vàng Giá vàng nữ trang'}, {'loai_vang': 'Vàng nữ trang 999', 'gia_mua': 55140, 'gia_ban': 55940, 'thoi_gian_cap_nhat': '2023-10-05T08:16:22', 'region': 'Lịch sử giá vàng Giá vàng nữ trang'}, {'loai_vang': 'Vàng nữ trang 999', 'gia_mua': 55240, 'gia_ban': 56040, 'thoi_gian_cap_nhat': '2023-10-05T09:53:54', 'region': 'Lịch sử giá vàng Giá vàng nữ trang'}, {'loai_vang': 'Vàng nữ trang 999', 'gia_mua': 55240, 'gia_ban': 56040, 'thoi_gian_cap_nhat': '2023-10-05T14:06:58', 'region': 'Lịch sử giá vàng Giá vàng nữ trang'}, {'loai_vang': 'Vàng nữ trang 99', 'gia_mua': 54540, 'gia_ban': 55540, 'thoi_gian_cap_nhat': '2023-10-05T08:15:07', 'region': 'Lịch sử giá vàng Giá vàng nữ trang'}, {'loai_vang': 'Vàng nữ trang 99', 'gia_mua': 54540, 'gia_ban': 55540, 'thoi_gian_cap_nhat': '2023-10-05T08:16:22', 'region': 'Lịch sử giá vàng Giá vàng nữ trang'}, {'loai_vang': 'Vàng nữ trang 99', 'gia_mua': 54640, 'gia_ban': 55640, 'thoi_gian_cap_nhat': '2023-10-05T09:53:54', 'region': 'Lịch sử giá vàng Giá vàng nữ trang'}, {'loai_vang': 'Vàng nữ trang 99', 'gia_mua': 54640, 'gia_ban': 55640, 'thoi_gian_cap_nhat': '2023-10-05T14:06:58', 'region': 'Lịch sử giá vàng Giá vàng nữ trang'}, {'loai_vang': 'Vàng 750 (18K)', 'gia_mua': 40750, 'gia_ban': 42150, 'thoi_gian_cap_nhat': '2023-10-05T08:15:07', 'region': 'Lịch sử giá vàng Giá vàng nữ trang'}, {'loai_vang': 'Vàng 750 (18K)', 'gia_mua': 40750, 'gia_ban': 42150, 'thoi_gian_cap_nhat': '2023-10-05T08:16:22', 'region': 'Lịch sử giá vàng Giá vàng nữ trang'}, {'loai_vang': 'Vàng 750 (18K)', 'gia_mua': 40830, 'gia_ban': 42230, 'thoi_gian_cap_nhat': '2023-10-05T09:53:54', 'region': 'Lịch sử giá vàng Giá vàng nữ trang'}, {'loai_vang': 'Vàng 750 (18K)', 'gia_mua': 40830, 'gia_ban': 42230, 'thoi_gian_cap_nhat': '2023-10-05T14:06:58', 'region': 'Lịch sử giá vàng Giá vàng nữ trang'}, {'loai_vang': 'Vàng 585 (14K)', 'gia_mua': 31510, 'gia_ban': 32910, 'thoi_gian_cap_nhat': '2023-10-05T08:15:07', 'region': 'Lịch sử giá vàng Giá vàng nữ trang'}, {'loai_vang': 'Vàng 585 (14K)', 'gia_mua': 31510, 'gia_ban': 32910, 'thoi_gian_cap_nhat': '2023-10-05T08:16:22', 'region': 'Lịch sử giá vàng Giá vàng nữ trang'}, {'loai_vang': 'Vàng 585 (14K)', 'gia_mua': 31570, 'gia_ban': 32970, 'thoi_gian_cap_nhat': '2023-10-05T09:53:54', 'region': 'Lịch sử giá vàng Giá vàng nữ trang'}, {'loai_vang': 'Vàng 585 (14K)', 'gia_mua': 31570, 'gia_ban': 32970, 'thoi_gian_cap_nhat': '2023-10-05T14:06:58', 'region': 'Lịch sử giá vàng Giá vàng nữ trang'}, {'loai_vang': 'Vàng 416 (10K)', 'gia_mua': 22050, 'gia_ban': 23450, 'thoi_gian_cap_nhat': '2023-10-05T08:15:07', 'region': 'Lịch sử giá vàng Giá vàng nữ trang'}, {'loai_vang': 'Vàng 416 (10K)', 'gia_mua': 22050, 'gia_ban': 23450, 'thoi_gian_cap_nhat': '2023-10-05T08:16:22', 'region': 'Lịch sử giá vàng Giá vàng nữ trang'}, {'loai_vang': 'Vàng 416 (10K)', 'gia_mua': 22090, 'gia_ban': 23490, 'thoi_gian_cap_nhat': '2023-10-05T09:53:54', 'region': 'Lịch sử giá vàng Giá vàng nữ trang'}, {'loai_vang': 'Vàng 416 (10K)', 'gia_mua': 22090, 'gia_ban': 23490, 'thoi_gian_cap_nhat': '2023-10-05T14:06:58', 'region': 'Lịch sử giá vàng Giá vàng nữ trang'}, {'loai_vang': 'Vàng 916 (22K)', 'gia_mua': 50900, 'gia_ban': 51400, 'thoi_gian_cap_nhat': '2023-10-05T08:15:07', 'region': 'Lịch sử giá vàng Giá vàng nữ trang'}, {'loai_vang': 'Vàng 916 (22K)', 'gia_mua': 50900, 'gia_ban': 51400, 'thoi_gian_cap_nhat': '2023-10-05T08:16:22', 'region': 'Lịch sử giá vàng Giá vàng nữ trang'}, {'loai_vang': 'Vàng 916 (22K)', 'gia_mua': 50990, 'gia_ban': 51490, 'thoi_gian_cap_nhat': '2023-10-05T09:53:54', 'region': 'Lịch sử giá vàng Giá vàng nữ trang'}, {'loai_vang': 'Vàng 916 (22K)', 'gia_mua': 50990, 'gia_ban': 51490, 'thoi_gian_cap_nhat': '2023-10-05T14:06:58', 'region': 'Lịch sử giá vàng Giá vàng nữ trang'}, {'loai_vang': 'Vàng 610 (14.6K)', 'gia_mua': 32910, 'gia_ban': 34310, 'thoi_gian_cap_nhat': '2023-10-05T08:15:07', 'region': 'Lịch sử giá vàng Giá vàng nữ trang'}, {'loai_vang': 'Vàng 610 (14.6K)', 'gia_mua': 32910, 'gia_ban': 34310, 'thoi_gian_cap_nhat': '2023-10-05T08:16:22', 'region': 'Lịch sử giá vàng Giá vàng nữ trang'}, {'loai_vang': 'Vàng 610 (14.6K)', 'gia_mua': 32970, 'gia_ban': 34370, 'thoi_gian_cap_nhat': '2023-10-05T09:53:54', 'region': 'Lịch sử giá vàng Giá vàng nữ trang'}, {'loai_vang': 'Vàng 610 (14.6K)', 'gia_mua': 32970, 'gia_ban': 34370, 'thoi_gian_cap_nhat': '2023-10-05T14:06:58', 'region': 'Lịch sử giá vàng Giá vàng nữ trang'}, {'loai_vang': 'Vàng 650 (15.6K)', 'gia_mua': 35150, 'gia_ban': 36550, 'thoi_gian_cap_nhat': '2023-10-05T08:15:07', 'region': 'Lịch sử giá vàng Giá vàng nữ trang'}, {'loai_vang': 'Vàng 650 (15.6K)', 'gia_mua': 35150, 'gia_ban': 36550, 'thoi_gian_cap_nhat': '2023-10-05T08:16:22', 'region': 'Lịch sử giá vàng Giá vàng nữ trang'}, {'loai_vang': 'Vàng 650 (15.6K)', 'gia_mua': 35220, 'gia_ban': 36620, 'thoi_gian_cap_nhat': '2023-10-05T09:53:54', 'region': 'Lịch sử giá vàng Giá vàng nữ trang'}, {'loai_vang': 'Vàng 650 (15.6K)', 'gia_mua': 35220, 'gia_ban': 36620, 'thoi_gian_cap_nhat': '2023-10-05T14:06:58', 'region': 'Lịch sử giá vàng Giá vàng nữ trang'}, {'loai_vang': 'Vàng 680 (16.3K)', 'gia_mua': 36830, 'gia_ban': 38230, 'thoi_gian_cap_nhat': '2023-10-05T08:15:07', 'region': 'Lịch sử giá vàng Giá vàng nữ trang'}, {'loai_vang': 'Vàng 680 (16.3K)', 'gia_mua': 36830, 'gia_ban': 38230, 'thoi_gian_cap_nhat': '2023-10-05T08:16:22', 'region': 'Lịch sử giá vàng Giá vàng nữ trang'}, {'loai_vang': 'Vàng 680 (16.3K)', 'gia_mua': 36900, 'gia_ban': 38300, 'thoi_gian_cap_nhat': '2023-10-05T09:53:54', 'region': 'Lịch sử giá vàng Giá vàng nữ trang'}, {'loai_vang': 'Vàng 680 (16.3K)', 'gia_mua': 36900, 'gia_ban': 38300, 'thoi_gian_cap_nhat': '2023-10-05T14:06:58', 'region': 'Lịch sử giá vàng Giá vàng nữ trang'}, {'loai_vang': 'Vàng 375 (9K)', 'gia_mua': 19750, 'gia_ban': 21150, 'thoi_gian_cap_nhat': '2023-10-05T08:15:07', 'region': 'Lịch sử giá vàng Giá vàng nữ trang'}, {'loai_vang': 'Vàng 375 (9K)', 'gia_mua': 19750, 'gia_ban': 21150, 'thoi_gian_cap_nhat': '2023-10-05T08:16:22', 'region': 'Lịch sử giá vàng Giá vàng nữ trang'}, {'loai_vang': 'Vàng 375 (9K)', 'gia_mua': 19790, 'gia_ban': 21190, 'thoi_gian_cap_nhat': '2023-10-05T09:53:54', 'region': 'Lịch sử giá vàng Giá vàng nữ trang'}, {'loai_vang': 'Vàng 375 (9K)', 'gia_mua': 19790, 'gia_ban': 21190, 'thoi_gian_cap_nhat': '2023-10-05T14:06:58', 'region': 'Lịch sử giá vàng Giá vàng nữ trang'}, {'loai_vang': 'Vàng 333 (8K)', 'gia_mua': 17230, 'gia_ban': 18630, 'thoi_gian_cap_nhat': '2023-10-05T08:15:07', 'region': 'Lịch sử giá vàng Giá vàng nữ trang'}, {'loai_vang': 'Vàng 333 (8K)', 'gia_mua': 17230, 'gia_ban': 18630, 'thoi_gian_cap_nhat': '2023-10-05T08:16:22', 'region': 'Lịch sử giá vàng Giá vàng nữ trang'}, {'loai_vang': 'Vàng 333 (8K)', 'gia_mua': 17260, 'gia_ban': 18660, 'thoi_gian_cap_nhat': '2023-10-05T09:53:54', 'region': 'Lịch sử giá vàng Giá vàng nữ trang'}, {'loai_vang': 'Vàng 333 (8K)', 'gia_mua': 17260, 'gia_ban': 18660, 'thoi_gian_cap_nhat': '2023-10-05T14:06:58', 'region': 'Lịch sử giá vàng Giá vàng nữ trang'}]}\n"
     ]
    }
   ],
   "source": [
    "payload = {    \n",
    "    \"day\": \"05\",\n",
    "    \"month\": \"10\",\n",
    "    \"year\": \"2023\"\n",
    "}\n",
    "res = requests.get(\"http://localhost:8686/crawl-pnj-history\", params=payload)\n",
    "print(res.status_code)\n",
    "print(res.json())"
   ]
  },
  {
   "cell_type": "code",
   "execution_count": 10,
   "id": "dc8c2d57",
   "metadata": {},
   "outputs": [
    {
     "name": "stdout",
     "output_type": "stream",
     "text": [
      "200\n",
      "{'success': True, 'total_rows': 12, 'data': [{'Loại vàng': 'Vàng miếng SJC', 'Mua vào(VNĐ/Chỉ)': '8,230,000', 'Bán ra(VNĐ/Chỉ)': '8,400,000'}, {'Loại vàng': 'Nhẫn tròn Phú Quý 999.9', 'Mua vào(VNĐ/Chỉ)': '8,255,000', 'Bán ra(VNĐ/Chỉ)': '8,360,000'}, {'Loại vàng': 'Nhẫn tròn Phú Quý 999.9', 'Mua vào(VNĐ/Chỉ)': '8,255,000', 'Bán ra(VNĐ/Chỉ)': '8,360,000'}, {'Loại vàng': 'Phú quý 1 lượng 99.9', 'Mua vào(VNĐ/Chỉ)': '8,245,000', 'Bán ra(VNĐ/Chỉ)': '8,340,000'}, {'Loại vàng': 'Vàng trang sức 999.9', 'Mua vào(VNĐ/Chỉ)': '8,200,000', 'Bán ra(VNĐ/Chỉ)': '8,340,000'}, {'Loại vàng': 'Vàng trang sức 999', 'Mua vào(VNĐ/Chỉ)': '8,190,000', 'Bán ra(VNĐ/Chỉ)': '8,330,000'}, {'Loại vàng': 'Vàng trang sức 99', 'Mua vào(VNĐ/Chỉ)': '8,118,000', 'Bán ra(VNĐ/Chỉ)': '8,256,600'}, {'Loại vàng': 'Vàng trang sức 98', 'Mua vào(VNĐ/Chỉ)': '8,036,000', 'Bán ra(VNĐ/Chỉ)': '8,173,200'}, {'Loại vàng': 'Vàng 999.9 phi SJC', 'Mua vào(VNĐ/Chỉ)': '8,200,000', 'Bán ra(VNĐ/Chỉ)': ''}, {'Loại vàng': 'Vàng 999.0  phi SJC', 'Mua vào(VNĐ/Chỉ)': '8,190,000', 'Bán ra(VNĐ/Chỉ)': ''}, {'Loại vàng': 'Bạc thỏi Phú Quý 999 (1Kilo, 10 lượng, 5 lượng, 1 lượng)', 'Mua vào(VNĐ/Chỉ)': '112,200', 'Bán ra(VNĐ/Chỉ)': '115,700'}, {'Loại vàng': 'Đồng bạc mỹ nghệ 999', 'Mua vào(VNĐ/Chỉ)': '112,200', 'Bán ra(VNĐ/Chỉ)': '132,000'}]}\n"
     ]
    }
   ],
   "source": [
    "payload = {    \n",
    "    \"date\": \"2024-10-05\", \n",
    "}\n",
    "res = requests.get(\"http://localhost:8686/crawl-phuquy-history\", params=payload)\n",
    "print(res.status_code)\n",
    "print(res.json())"
   ]
  },
  {
   "cell_type": "code",
   "execution_count": null,
   "id": "1fbaf24f",
   "metadata": {},
   "outputs": [],
   "source": []
  }
 ],
 "metadata": {
  "kernelspec": {
   "display_name": ".venv",
   "language": "python",
   "name": "python3"
  },
  "language_info": {
   "codemirror_mode": {
    "name": "ipython",
    "version": 3
   },
   "file_extension": ".py",
   "mimetype": "text/x-python",
   "name": "python",
   "nbconvert_exporter": "python",
   "pygments_lexer": "ipython3",
   "version": "3.10.11"
  }
 },
 "nbformat": 4,
 "nbformat_minor": 5
}
